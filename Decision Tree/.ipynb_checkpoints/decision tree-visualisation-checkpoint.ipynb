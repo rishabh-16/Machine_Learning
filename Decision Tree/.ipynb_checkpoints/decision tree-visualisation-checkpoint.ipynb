{
 "cells": [
  {
   "cell_type": "code",
   "execution_count": 1,
   "metadata": {},
   "outputs": [],
   "source": [
    "import numpy as np\n",
    "import decision_tree as dt"
   ]
  },
  {
   "cell_type": "code",
   "execution_count": 2,
   "metadata": {},
   "outputs": [],
   "source": [
    "X =[\n",
    "    ['Green', 3,],\n",
    "    ['Yellow', 3],\n",
    "    ['Red', 1],\n",
    "    ['Red', 1],\n",
    "    ['Yellow', 3],\n",
    "    ['Yellow', 3]\n",
    "    ]\n",
    "y=['Apple','Apple','Grape','Grape','Lemon','Lemon']"
   ]
  },
  {
   "cell_type": "code",
   "execution_count": 3,
   "metadata": {},
   "outputs": [],
   "source": [
    "tree=dt.Decision_Tree()\n",
    "tree.fit(X,y)"
   ]
  },
  {
   "cell_type": "code",
   "execution_count": 4,
   "metadata": {},
   "outputs": [
    {
     "name": "stdout",
     "output_type": "stream",
     "text": [
      "[{'Apple': '33.33333333333333%', 'Lemon': '66.66666666666666%'}]\n"
     ]
    }
   ],
   "source": [
    "print(tree.predict_prob([[\"Yellow\",3]]))"
   ]
  }
 ],
 "metadata": {
  "kernelspec": {
   "display_name": "Python 3",
   "language": "python",
   "name": "python3"
  },
  "language_info": {
   "codemirror_mode": {
    "name": "ipython",
    "version": 3
   },
   "file_extension": ".py",
   "mimetype": "text/x-python",
   "name": "python",
   "nbconvert_exporter": "python",
   "pygments_lexer": "ipython3",
   "version": "3.7.0"
  }
 },
 "nbformat": 4,
 "nbformat_minor": 2
}
