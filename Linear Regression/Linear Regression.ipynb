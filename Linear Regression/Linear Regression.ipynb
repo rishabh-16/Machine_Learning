{
 "cells": [
  {
   "cell_type": "code",
   "execution_count": 1,
   "metadata": {},
   "outputs": [],
   "source": [
    "import numpy as np"
   ]
  },
  {
   "cell_type": "code",
   "execution_count": 2,
   "metadata": {},
   "outputs": [],
   "source": [
    "data=np.loadtxt(open(\"C:\\\\Users\\\\Rishabh\\\\Desktop\\\\Machine Learning\\\\Linear Regression\\\\LinearRegressionData.txt\",\"r\"),delimiter=',')"
   ]
  },
  {
   "cell_type": "code",
   "execution_count": 3,
   "metadata": {},
   "outputs": [],
   "source": [
    "#dividing training data and testing data in the ratio - 70% : 30%\n",
    "\n",
    "[a,b]=np.shape(data)\n",
    "X_train=data[0:(7*a)//10,0:b-1]\n",
    "y_train=data[0:(7*a)//10,b-1:b]\n",
    "X_test=data[(7*a)//10:a,0:b-1]\n",
    "y_test=data[(7*a)//10:a,b-1:b]\n",
    "\n",
    "Xt=X_train\n",
    "yt=y_train"
   ]
  },
  {
   "cell_type": "code",
   "execution_count": 4,
   "metadata": {},
   "outputs": [],
   "source": [
    "# Function to normalize data,return mean and deviation\n",
    "\n",
    "def normalize(X):\n",
    "    mean=np.mean(X,axis=0)\n",
    "    dev=np.std(X,axis=0)\n",
    "    Xn=(X-mean)/dev\n",
    "    return Xn,mean,dev"
   ]
  },
  {
   "cell_type": "code",
   "execution_count": 5,
   "metadata": {},
   "outputs": [],
   "source": [
    "# making working matrix\n",
    "\n",
    "m=len(y_train)\n",
    "[X_train,mean,dev]=normalize(X_train)\n",
    "X_train=np.hstack((np.ones((m,1)),X_train))\n",
    "n=np.shape(X_train)[1]"
   ]
  },
  {
   "cell_type": "code",
   "execution_count": 6,
   "metadata": {},
   "outputs": [],
   "source": [
    "#initialising theta\n",
    "\n",
    "theta = np.random.random((n,1))"
   ]
  },
  {
   "cell_type": "code",
   "execution_count": 7,
   "metadata": {},
   "outputs": [],
   "source": [
    "iterations=1000\n",
    "alpha=0.3"
   ]
  },
  {
   "cell_type": "code",
   "execution_count": 8,
   "metadata": {},
   "outputs": [],
   "source": [
    "def calcost(X,y,theta):\n",
    "    m=len(y)\n",
    "    d=X.dot(theta)-y\n",
    "    J=(1/(2.0*m)) * np.sum(np.square(d))\n",
    "    return J"
   ]
  },
  {
   "cell_type": "code",
   "execution_count": 9,
   "metadata": {},
   "outputs": [
    {
     "name": "stdout",
     "output_type": "stream",
     "text": [
      "cost= 69031387739.6975\n"
     ]
    }
   ],
   "source": [
    "cost=calcost(X_train,y_train,theta)\n",
    "print('cost=',cost)"
   ]
  },
  {
   "cell_type": "code",
   "execution_count": 10,
   "metadata": {},
   "outputs": [],
   "source": [
    "def gradient_descent(X,y,theta,alpha,noi):\n",
    "    m=len(y)\n",
    "    for i in range(noi):\n",
    "        d=X.dot(theta)-y\n",
    "        theta = theta - (alpha/m)*(X.T.dot(d))\n",
    "    return theta"
   ]
  },
  {
   "cell_type": "code",
   "execution_count": 11,
   "metadata": {},
   "outputs": [],
   "source": [
    "theta=gradient_descent(X_train,y_train,theta,alpha,iterations)"
   ]
  },
  {
   "cell_type": "code",
   "execution_count": 12,
   "metadata": {},
   "outputs": [],
   "source": [
    "cost=calcost(X_train,y_train,theta)"
   ]
  },
  {
   "cell_type": "code",
   "execution_count": 13,
   "metadata": {},
   "outputs": [],
   "source": [
    "# function to predict on given input set\n",
    "def predict(X,theta,mean,dev):\n",
    "    X=(X-mean)/dev\n",
    "    m_test=np.shape(X)[0]\n",
    "    X=np.hstack((np.ones((m_test,1)),X))\n",
    "    y_pred=X.dot(theta)\n",
    "    return y_pred"
   ]
  },
  {
   "cell_type": "code",
   "execution_count": 14,
   "metadata": {},
   "outputs": [
    {
     "name": "stdout",
     "output_type": "stream",
     "text": [
      "mean error using my model=  6.857466854306419 %\n"
     ]
    }
   ],
   "source": [
    "#testing accuracy of model\n",
    "y_pred=predict(X_test,theta,mean,dev)\n",
    "error=(y_pred-y_test)/y_test *100\n",
    "Merr=np.mean(error)\n",
    "print(\"mean error using my model= \",Merr,\"%\")"
   ]
  },
  {
   "cell_type": "code",
   "execution_count": 15,
   "metadata": {},
   "outputs": [
    {
     "name": "stdout",
     "output_type": "stream",
     "text": [
      "mean error using sklearn=  6.8574668543064465 %\n"
     ]
    }
   ],
   "source": [
    "from sklearn.linear_model import LinearRegression\n",
    "regr = LinearRegression()\n",
    "regr.fit(Xt,yt)\n",
    "y_pred=regr.predict(X_test)\n",
    "error=(y_pred-y_test)/y_test*100\n",
    "merr=np.mean(error)\n",
    "print(\"mean error using sklearn= \",merr,\"%\")"
   ]
  },
  {
   "cell_type": "code",
   "execution_count": null,
   "metadata": {},
   "outputs": [],
   "source": []
  }
 ],
 "metadata": {
  "kernelspec": {
   "display_name": "Python 3",
   "language": "python",
   "name": "python3"
  },
  "language_info": {
   "codemirror_mode": {
    "name": "ipython",
    "version": 3
   },
   "file_extension": ".py",
   "mimetype": "text/x-python",
   "name": "python",
   "nbconvert_exporter": "python",
   "pygments_lexer": "ipython3",
   "version": "3.7.0"
  }
 },
 "nbformat": 4,
 "nbformat_minor": 2
}
