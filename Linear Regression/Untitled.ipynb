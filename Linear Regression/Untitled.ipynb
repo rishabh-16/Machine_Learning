{
 "cells": [
  {
   "cell_type": "code",
   "execution_count": 19,
   "metadata": {},
   "outputs": [],
   "source": [
    "import numpy as np"
   ]
  },
  {
   "cell_type": "code",
   "execution_count": 20,
   "metadata": {},
   "outputs": [],
   "source": [
    "from sklearn import datasets, linear_model\n",
    "from sklearn.metrics import mean_squared_error, r2_score\n"
   ]
  },
  {
   "cell_type": "code",
   "execution_count": 21,
   "metadata": {},
   "outputs": [],
   "source": [
    "data=np.loadtxt(open(\"C:\\\\Users\\\\Rishabh\\\\Desktop\\\\Machine Learning\\\\Linear Regression\\\\LinearRegressionData.txt\",\"r\"),delimiter=',')"
   ]
  },
  {
   "cell_type": "code",
   "execution_count": 22,
   "metadata": {},
   "outputs": [
    {
     "name": "stdout",
     "output_type": "stream",
     "text": [
      "(32, 2) (32, 1) (15, 2) (15, 1)\n",
      "(47, 3)\n"
     ]
    }
   ],
   "source": [
    "#dividing training data and testing data in the ratio - 70% : 30%\n",
    "\n",
    "[a,b]=np.shape(data)\n",
    "X_train=data[0:(7*a)//10,0:b-1]\n",
    "y_train=data[0:(7*a)//10,b-1:b]\n",
    "X_test=data[(7*a)//10:a,0:b-1]\n",
    "y_test=data[(7*a)//10:a,b-1:b]\n",
    "print(np.shape(X_train),np.shape(y_train),np.shape(X_test),np.shape(y_test))\n",
    "print(np.shape(data))"
   ]
  },
  {
   "cell_type": "code",
   "execution_count": 23,
   "metadata": {},
   "outputs": [],
   "source": [
    "regr = linear_model.LinearRegression()\n"
   ]
  },
  {
   "cell_type": "code",
   "execution_count": 25,
   "metadata": {},
   "outputs": [
    {
     "data": {
      "text/plain": [
       "LinearRegression(copy_X=True, fit_intercept=True, n_jobs=1, normalize=False)"
      ]
     },
     "execution_count": 25,
     "metadata": {},
     "output_type": "execute_result"
    }
   ],
   "source": [
    "regr.fit(X_train,y_train)\n"
   ]
  },
  {
   "cell_type": "code",
   "execution_count": 26,
   "metadata": {},
   "outputs": [],
   "source": [
    "y_pred = regr.predict(X_test)"
   ]
  },
  {
   "cell_type": "code",
   "execution_count": 29,
   "metadata": {},
   "outputs": [
    {
     "name": "stdout",
     "output_type": "stream",
     "text": [
      "6.8574668543064465\n"
     ]
    }
   ],
   "source": [
    "error=(y_pred-y_test)/y_test*100\n",
    "merr=np.mean(error)\n",
    "print(merr)"
   ]
  },
  {
   "cell_type": "code",
   "execution_count": null,
   "metadata": {},
   "outputs": [],
   "source": []
  }
 ],
 "metadata": {
  "kernelspec": {
   "display_name": "Python 3",
   "language": "python",
   "name": "python3"
  },
  "language_info": {
   "codemirror_mode": {
    "name": "ipython",
    "version": 3
   },
   "file_extension": ".py",
   "mimetype": "text/x-python",
   "name": "python",
   "nbconvert_exporter": "python",
   "pygments_lexer": "ipython3",
   "version": "3.7.0"
  }
 },
 "nbformat": 4,
 "nbformat_minor": 2
}
