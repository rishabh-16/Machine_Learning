{
 "cells": [
  {
   "cell_type": "code",
   "execution_count": 1,
   "metadata": {},
   "outputs": [],
   "source": [
    "import numpy as np\n",
    "import Logistic_Regression as logr"
   ]
  },
  {
   "cell_type": "code",
   "execution_count": 2,
   "metadata": {},
   "outputs": [
    {
     "name": "stdout",
     "output_type": "stream",
     "text": [
      "Shape of input data: 118 2\n"
     ]
    }
   ],
   "source": [
    "data=np.loadtxt(open(\"C:\\\\Users\\\\Rishabh\\\\Desktop\\\\Machine Learning\\\\Logistic Regression using modules\\\\LogisticRegressionData2.txt\",\"r\"),delimiter=',')\n",
    "X=data[:,:-1]\n",
    "y=data[:,-1:]\n",
    "m,n=X.shape\n",
    "print(\"Shape of input data:\",m,n)"
   ]
  },
  {
   "cell_type": "code",
   "execution_count": 3,
   "metadata": {},
   "outputs": [],
   "source": [
    "#defining object of LogReg and shuffling data\n",
    "regr=logr.LogReg()\n",
    "regr.shuffle_in_unison(X,y)"
   ]
  },
  {
   "cell_type": "code",
   "execution_count": 4,
   "metadata": {},
   "outputs": [],
   "source": [
    "#normalising data and initialising different variables\n",
    "X,mean,dev=regr.normalize(X)\n",
    "alpha=0.1\n",
    "iterations=100\n",
    "batch_size=len(y)//10"
   ]
  },
  {
   "cell_type": "code",
   "execution_count": 5,
   "metadata": {},
   "outputs": [],
   "source": [
    "#dividing training data and testing data in the ratio - 70% : 30%\n",
    "[a,b]=np.shape(X)\n",
    "X_train=X[:(7*a)//10,:]\n",
    "y_train=y[:(7*a)//10]\n",
    "X_test=X[(7*a)//10:,:]\n",
    "y_test=y[(7*a)//10:]"
   ]
  },
  {
   "cell_type": "code",
   "execution_count": 6,
   "metadata": {},
   "outputs": [
    {
     "name": "stdout",
     "output_type": "stream",
     "text": [
      "[[-0.3377745 ]\n",
      " [ 0.00300848]] [-0.00885077]\n"
     ]
    }
   ],
   "source": [
    "#optimizing weight and bias\n",
    "regr.fit(X_train,y_train)\n",
    "w,b=regr.mini_batch_gradient_descent(batch_size,alpha,iterations)\n",
    "print(w,b)"
   ]
  },
  {
   "cell_type": "markdown",
   "metadata": {},
   "source": [
    "-------------------------------------------Plotting Learning Curve-------------------------------------------------------------"
   ]
  },
  {
   "cell_type": "code",
   "execution_count": 7,
   "metadata": {},
   "outputs": [
    {
     "data": {
      "image/png": "[encoded data removed]",
      "text/plain": [
       "<Figure size 432x288 with 1 Axes>"
      ]
     },
     "metadata": {
      "needs_background": "light"
     },
     "output_type": "display_data"
    }
   ],
   "source": [
    "regr.plot_learning_curve()"
   ]
  },
  {
   "cell_type": "markdown",
   "metadata": {},
   "source": [
    "-------------------------------------Calculating Accuracy--------------------------------------------------------------------"
   ]
  },
  {
   "cell_type": "code",
   "execution_count": 8,
   "metadata": {},
   "outputs": [
    {
     "name": "stdout",
     "output_type": "stream",
     "text": [
      "accuracy of my model= 44.44 %\n"
     ]
    }
   ],
   "source": [
    "#calculating accuracy of the model on test data\n",
    "Accuracy=regr.accuracy(X_test,y_test)\n",
    "print(\"accuracy of my model= %0.2f\" %(Accuracy),\"%\")"
   ]
  },
  {
   "cell_type": "code",
   "execution_count": 9,
   "metadata": {},
   "outputs": [
    {
     "name": "stdout",
     "output_type": "stream",
     "text": [
      "accuracy of sklearn model= 44.44 %\n"
     ]
    }
   ],
   "source": [
    "#calculating accuracy using sklearn model\n",
    "import warnings\n",
    "warnings.filterwarnings('ignore')\n",
    "from sklearn.linear_model import LogisticRegression\n",
    "regr = LogisticRegression()\n",
    "regr.fit(X_train,y_train)\n",
    "y_pred=regr.predict(X_test)\n",
    "y_pred=y_pred.reshape(np.shape(y_test))\n",
    "error=(y_pred==y_test)\n",
    "Merr=np.mean(error)*100\n",
    "print(\"accuracy of sklearn model= %0.2f\" %Merr,\"%\")"
   ]
  }
 ],
 "metadata": {
  "kernelspec": {
   "display_name": "Python 3",
   "language": "python",
   "name": "python3"
  },
  "language_info": {
   "codemirror_mode": {
    "name": "ipython",
    "version": 3
   },
   "file_extension": ".py",
   "mimetype": "text/x-python",
   "name": "python",
   "nbconvert_exporter": "python",
   "pygments_lexer": "ipython3",
   "version": "3.7.0"
  }
 },
 "nbformat": 4,
 "nbformat_minor": 2
}
