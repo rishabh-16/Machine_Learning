{
 "cells": [
  {
   "cell_type": "code",
   "execution_count": 1,
   "metadata": {},
   "outputs": [],
   "source": [
    "import numpy as np\n",
    "import Linear_Regression as lr"
   ]
  },
  {
   "cell_type": "code",
   "execution_count": 2,
   "metadata": {},
   "outputs": [],
   "source": [
    "data=np.loadtxt(open(\"C:\\\\Users\\\\Rishabh\\\\Desktop\\\\Machine Learning\\\\Linear Regression using modules\\\\LinearRegressionData.txt\",\"r\"),delimiter=',')"
   ]
  },
  {
   "cell_type": "code",
   "execution_count": 3,
   "metadata": {},
   "outputs": [],
   "source": [
    "X=data[:,0:-1]\n",
    "y=data[:,-1:]\n",
    "X,mean,dev=lr.normalize(X)\n",
    "alpha=0.1\n",
    "iterations=1000"
   ]
  },
  {
   "cell_type": "code",
   "execution_count": 4,
   "metadata": {},
   "outputs": [],
   "source": [
    "#dividing training data and testing data in the ratio - 70% : 30%\n",
    "\n",
    "[a,b]=np.shape(X)\n",
    "X_train=X[0:(7*a)//10,:]\n",
    "y_train=y[0:(7*a)//10,:]\n",
    "X_test=X[(7*a)//10:a,:]\n",
    "y_test=y[(7*a)//10:a,:]"
   ]
  },
  {
   "cell_type": "code",
   "execution_count": 5,
   "metadata": {},
   "outputs": [],
   "source": [
    "train=lr.LReg(X_train,y_train)\n",
    "w=train.gradient_descent(alpha,iterations)"
   ]
  },
  {
   "cell_type": "code",
   "execution_count": 6,
   "metadata": {},
   "outputs": [
    {
     "name": "stdout",
     "output_type": "stream",
     "text": [
      "2224352625.9828234\n"
     ]
    }
   ],
   "source": [
    "cost=train.Calcost()\n",
    "print(cost)"
   ]
  },
  {
   "cell_type": "code",
   "execution_count": 7,
   "metadata": {},
   "outputs": [
    {
     "name": "stdout",
     "output_type": "stream",
     "text": [
      "93.14253314569346\n"
     ]
    }
   ],
   "source": [
    "y_pred=train.predict(X_test)\n",
    "Accuracy=train.accuracy(y_pred,y_test)\n",
    "print(Accuracy)"
   ]
  },
  {
   "cell_type": "code",
   "execution_count": 8,
   "metadata": {},
   "outputs": [
    {
     "name": "stdout",
     "output_type": "stream",
     "text": [
      "accuracy using sklearn=  93.14253314569358 %\n"
     ]
    }
   ],
   "source": [
    "from sklearn.linear_model import LinearRegression\n",
    "regr = LinearRegression()\n",
    "regr.fit(X_train,y_train)\n",
    "y_pred=regr.predict(X_test)\n",
    "error=(y_pred-y_test)/y_test*100\n",
    "merr=np.mean(error)\n",
    "print(\"accuracy using sklearn= \",100-merr,\"%\")"
   ]
  }
 ],
 "metadata": {
  "kernelspec": {
   "display_name": "Python 3",
   "language": "python",
   "name": "python3"
  },
  "language_info": {
   "codemirror_mode": {
    "name": "ipython",
    "version": 3
   },
   "file_extension": ".py",
   "mimetype": "text/x-python",
   "name": "python",
   "nbconvert_exporter": "python",
   "pygments_lexer": "ipython3",
   "version": "3.7.0"
  }
 },
 "nbformat": 4,
 "nbformat_minor": 2
}
