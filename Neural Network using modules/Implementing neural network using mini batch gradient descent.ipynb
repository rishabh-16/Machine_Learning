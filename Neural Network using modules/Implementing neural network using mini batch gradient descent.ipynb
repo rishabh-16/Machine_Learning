{
 "cells": [
  {
   "cell_type": "code",
   "execution_count": 1,
   "metadata": {},
   "outputs": [],
   "source": [
    "import numpy as np\n",
    "import scipy.io as sio\n",
    "import neural_network as nn"
   ]
  },
  {
   "cell_type": "code",
   "execution_count": 2,
   "metadata": {},
   "outputs": [],
   "source": [
    "# Load Training Data and shuffling\n",
    "\n",
    "mat_data = sio.loadmat('ex3data1.mat')\n",
    "data=np.hstack([mat_data['X'],mat_data['y']])\n",
    "np.random.shuffle(data)\n",
    "X=data[:,:-1]\n",
    "y=data[:,-1:].flatten()\n",
    "m, n = X.shape\n",
    "y=y.flatten()\n",
    "Y = np.zeros((m,10))\n",
    "for i in range(m):\n",
    "    Y[i, int(y[i]-1)] = 1"
   ]
  },
  {
   "cell_type": "code",
   "execution_count": 3,
   "metadata": {},
   "outputs": [],
   "source": [
    "#defining object of nn\n",
    "clf=nn.nn()"
   ]
  },
  {
   "cell_type": "code",
   "execution_count": 4,
   "metadata": {},
   "outputs": [],
   "source": [
    "#normalising data and initialising different variables\n",
    "X,_=clf.normalize(X)\n",
    "alpha=4\n",
    "iterations=50\n",
    "LAMBDA=3\n",
    "hidden_layer_structure=np.array([25])\n",
    "mini_batch_size=m//10"
   ]
  },
  {
   "cell_type": "code",
   "execution_count": 5,
   "metadata": {},
   "outputs": [],
   "source": [
    "#dividing training data and testing data in the ratio - 70% : 30%\n",
    "\n",
    "X_train=X[:(7*m)//10,:]\n",
    "y_train=Y[:(7*m)//10]\n",
    "X_test=X[(7*m)//10:,:]\n",
    "y_test=Y[(7*m)//10:,:]"
   ]
  },
  {
   "cell_type": "code",
   "execution_count": 6,
   "metadata": {},
   "outputs": [],
   "source": [
    "#optimizing parameters using mini batch gradient descent\n",
    "clf.fit(X_train,y_train,hidden_layer_structure)\n",
    "parameters=clf.mini_batch_gradient_descent(alpha,iterations,mini_batch_size,LAMBDA)"
   ]
  },
  {
   "cell_type": "code",
   "execution_count": 7,
   "metadata": {},
   "outputs": [
    {
     "name": "stdout",
     "output_type": "stream",
     "text": [
      "[ True False  True ...  True  True  True]\n",
      "accuracy of my model= 88.13333333333333 %\n"
     ]
    }
   ],
   "source": [
    "#Calculating accuracy\n",
    "print(\"accuracy of my model=\",clf.accuracy(X_test,y_test),\"%\")"
   ]
  },
  {
   "cell_type": "code",
   "execution_count": 8,
   "metadata": {},
   "outputs": [
    {
     "name": "stdout",
     "output_type": "stream",
     "text": [
      "[ True False  True ...  True  True  True]\n",
      "accuracy of sklearn= 88.4 %\n"
     ]
    }
   ],
   "source": [
    "#calculating accuracy of sklearn model\n",
    "from sklearn.neural_network import MLPClassifier\n",
    "clf = MLPClassifier(solver='lbfgs',hidden_layer_sizes=(25))\n",
    "clf.fit(X_train, y_train)\n",
    "y_pred=clf.predict(X_test)\n",
    "p1 = np.argmax(y_pred, axis=1)\n",
    "p2 = np.argmax(y_test, axis=1)\n",
    "A=(p1==p2)\n",
    "print(A)\n",
    "acc=np.mean(A)*100\n",
    "print(\"accuracy of sklearn=\",acc,\"%\")"
   ]
  }
 ],
 "metadata": {
  "kernelspec": {
   "display_name": "Python 3",
   "language": "python",
   "name": "python3"
  },
  "language_info": {
   "codemirror_mode": {
    "name": "ipython",
    "version": 3
   },
   "file_extension": ".py",
   "mimetype": "text/x-python",
   "name": "python",
   "nbconvert_exporter": "python",
   "pygments_lexer": "ipython3",
   "version": "3.7.0"
  }
 },
 "nbformat": 4,
 "nbformat_minor": 2
}
