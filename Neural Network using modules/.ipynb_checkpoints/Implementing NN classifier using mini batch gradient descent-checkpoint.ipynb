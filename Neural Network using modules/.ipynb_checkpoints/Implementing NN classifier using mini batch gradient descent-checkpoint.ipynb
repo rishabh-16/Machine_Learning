{
 "cells": [
  {
   "cell_type": "markdown",
   "metadata": {},
   "source": [
    "# this implementation is used to recognize numbers from 0 to 9\n",
    "                           this exercise handles relatively huge data so it may be slow"
   ]
  },
  {
   "cell_type": "code",
   "execution_count": 1,
   "metadata": {},
   "outputs": [],
   "source": [
    "import numpy as np\n",
    "import scipy.io as sio\n",
    "import neural_network as nn"
   ]
  },
  {
   "cell_type": "code",
   "execution_count": 2,
   "metadata": {},
   "outputs": [
    {
     "name": "stdout",
     "output_type": "stream",
     "text": [
      "Shape of input data: 5000 400\n"
     ]
    }
   ],
   "source": [
    "# Load Training Data\n",
    "\n",
    "mat_data = sio.loadmat('ex3data1.mat')\n",
    "data=np.hstack([mat_data['X'],mat_data['y']])\n",
    "X=data[:,:-1]\n",
    "y=data[:,-1:].flatten()\n",
    "m, n = X.shape\n",
    "print(\"Shape of input data:\",m,n)"
   ]
  },
  {
   "cell_type": "code",
   "execution_count": 3,
   "metadata": {},
   "outputs": [],
   "source": [
    "#defining object of nn and shuffling dataset\n",
    "clf=nn.nn()\n",
    "clf.shuffle_in_unison(X,y)"
   ]
  },
  {
   "cell_type": "code",
   "execution_count": 4,
   "metadata": {},
   "outputs": [],
   "source": [
    "#normalising data and initialising different variables\n",
    "X,_=clf.normalize(X)\n",
    "alpha=3\n",
    "iterations=100\n",
    "LAMBDA=0\n",
    "hidden_layer_structure=np.array([25])\n",
    "mini_batch_size=m//10"
   ]
  },
  {
   "cell_type": "code",
   "execution_count": 5,
   "metadata": {},
   "outputs": [],
   "source": [
    "#dividing training data and testing data in the ratio - 70% : 30%\n",
    "\n",
    "X_train=X[:(7*m)//10,:]\n",
    "y_train=y[:(7*m)//10]\n",
    "X_test=X[(7*m)//10:,:]\n",
    "y_test=y[(7*m)//10:]"
   ]
  },
  {
   "cell_type": "code",
   "execution_count": 6,
   "metadata": {},
   "outputs": [
    {
     "name": "stdout",
     "output_type": "stream",
     "text": [
      "labels are: [ 1.  2.  3.  4.  5.  6.  7.  8.  9. 10.]\n"
     ]
    }
   ],
   "source": [
    "#optimizing parameters using mini batch gradient descent\n",
    "clf.fit(X_train,y_train,hidden_layer_structure)\n",
    "parameters=clf.mini_batch_gradient_descent(alpha,iterations,mini_batch_size,LAMBDA)"
   ]
  },
  {
   "cell_type": "markdown",
   "metadata": {},
   "source": [
    "-------------------------------------------Some Predictions---------------------------------------------------"
   ]
  },
  {
   "cell_type": "code",
   "execution_count": 7,
   "metadata": {},
   "outputs": [
    {
     "name": "stdout",
     "output_type": "stream",
     "text": [
      "Test set:       [4. 2. 8. 2. 6. 9. 8. 5. 8. 3.]\n",
      "My predictions: [4. 2. 8. 2. 6. 9. 8. 5. 8. 3.]\n"
     ]
    }
   ],
   "source": [
    "indices=np.random.choice(m,10)\n",
    "print(\"Test set:      \",y[indices])\n",
    "print(\"My predictions:\",clf.predict(X[indices,:]))"
   ]
  },
  {
   "cell_type": "markdown",
   "metadata": {},
   "source": [
    "-------------------------------------------Plotting Learning Curve-------------------------------------------------------------"
   ]
  },
  {
   "cell_type": "code",
   "execution_count": 8,
   "metadata": {},
   "outputs": [
    {
     "data": {
      "image/png": "[encoded data removed]",
      "text/plain": [
       "<Figure size 432x288 with 1 Axes>"
      ]
     },
     "metadata": {
      "needs_background": "light"
     },
     "output_type": "display_data"
    }
   ],
   "source": [
    "clf.plot_learning_curve()"
   ]
  },
  {
   "cell_type": "markdown",
   "metadata": {},
   "source": [
    "-------------------------------------Calculating accuracy--------------------------------------------------------------------"
   ]
  },
  {
   "cell_type": "code",
   "execution_count": 9,
   "metadata": {},
   "outputs": [
    {
     "name": "stdout",
     "output_type": "stream",
     "text": [
      "accuracy of my model= 92.47 %\n"
     ]
    }
   ],
   "source": [
    "#Calculating accuracy\n",
    "print(\"accuracy of my model= %0.2f\" %clf.accuracy(X_test,y_test),\"%\")"
   ]
  },
  {
   "cell_type": "code",
   "execution_count": 10,
   "metadata": {},
   "outputs": [
    {
     "name": "stdout",
     "output_type": "stream",
     "text": [
      "accuracy of sklearn= 91.87 %\n"
     ]
    }
   ],
   "source": [
    "#calculating accuracy of sklearn model\n",
    "from sklearn.neural_network import MLPClassifier\n",
    "clf = MLPClassifier(solver='lbfgs',batch_size=mini_batch_size,hidden_layer_sizes=(25))\n",
    "clf.fit(X_train, y_train)\n",
    "y_pred=clf.predict(X_test)\n",
    "A=(y_pred==y_test)\n",
    "acc=np.mean(A)*100\n",
    "print(\"accuracy of sklearn= %0.2f\" %acc,\"%\")"
   ]
  }
 ],
 "metadata": {
  "kernelspec": {
   "display_name": "Python 3",
   "language": "python",
   "name": "python3"
  },
  "language_info": {
   "codemirror_mode": {
    "name": "ipython",
    "version": 3
   },
   "file_extension": ".py",
   "mimetype": "text/x-python",
   "name": "python",
   "nbconvert_exporter": "python",
   "pygments_lexer": "ipython3",
   "version": "3.7.0"
  }
 },
 "nbformat": 4,
 "nbformat_minor": 2
}
