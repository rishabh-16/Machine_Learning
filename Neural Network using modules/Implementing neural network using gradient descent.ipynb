{
 "cells": [
  {
   "cell_type": "markdown",
   "metadata": {},
   "source": [
    "# this implementation is used to recognize numbers from 0 to 9"
   ]
  },
  {
   "cell_type": "code",
   "execution_count": 1,
   "metadata": {},
   "outputs": [],
   "source": [
    "import numpy as np\n",
    "import scipy.io as sio\n",
    "import neural_network as nn"
   ]
  },
  {
   "cell_type": "code",
   "execution_count": 2,
   "metadata": {},
   "outputs": [],
   "source": [
    "# Load Training Data and shuffling\n",
    "\n",
    "mat_data = sio.loadmat('ex3data1.mat')\n",
    "data=np.hstack([mat_data['X'],mat_data['y']])\n",
    "np.random.shuffle(data)\n",
    "X=data[:,:-1]\n",
    "y=data[:,-1:].flatten()\n",
    "m, n = X.shape"
   ]
  },
  {
   "cell_type": "code",
   "execution_count": 3,
   "metadata": {},
   "outputs": [],
   "source": [
    "#defining object of nn\n",
    "clf=nn.nn()"
   ]
  },
  {
   "cell_type": "code",
   "execution_count": 4,
   "metadata": {},
   "outputs": [],
   "source": [
    "#normalising data and initialising different variables\n",
    "X,_=clf.normalize(X)\n",
    "alpha=4.5\n",
    "iterations=500\n",
    "LAMBDA=0\n",
    "hidden_layer_structure=np.array([25])"
   ]
  },
  {
   "cell_type": "code",
   "execution_count": 5,
   "metadata": {},
   "outputs": [],
   "source": [
    "#dividing training data and testing data in the ratio - 70% : 30%\n",
    "\n",
    "X_train=X[:(7*m)//10,:]\n",
    "y_train=y[:(7*m)//10]\n",
    "X_test=X[(7*m)//10:,:]\n",
    "y_test=y[(7*m)//10:]"
   ]
  },
  {
   "cell_type": "code",
   "execution_count": 6,
   "metadata": {},
   "outputs": [
    {
     "name": "stdout",
     "output_type": "stream",
     "text": [
      "labels are: [ 1.  2.  3.  4.  5.  6.  7.  8.  9. 10.]\n"
     ]
    }
   ],
   "source": [
    "#optimizing parameters\n",
    "clf.fit(X_train,y_train,hidden_layer_structure)\n",
    "parameters=clf.gradient_descent(alpha,iterations,LAMBDA)"
   ]
  },
  {
   "cell_type": "markdown",
   "metadata": {},
   "source": [
    "  -------------------------------------------Some Predictions---------------------------------------------------"
   ]
  },
  {
   "cell_type": "code",
   "execution_count": 7,
   "metadata": {},
   "outputs": [
    {
     "name": "stdout",
     "output_type": "stream",
     "text": [
      "Test set:       [ 6.  2. 10.  2.  7. 10.  8.  8.  5.  3.]\n",
      "My predictions: [ 6.  2. 10.  2.  7. 10.  8.  8.  5.  3.]\n"
     ]
    }
   ],
   "source": [
    "indices=np.random.choice(m,10)\n",
    "print(\"Test set:      \",y[indices])\n",
    "print(\"My predictions:\",clf.predict(X[indices,:]))"
   ]
  },
  {
   "cell_type": "markdown",
   "metadata": {},
   "source": [
    "-------------------------------------Calculating accuracy--------------------------------------------------------------------"
   ]
  },
  {
   "cell_type": "code",
   "execution_count": 8,
   "metadata": {},
   "outputs": [
    {
     "name": "stdout",
     "output_type": "stream",
     "text": [
      "accuracy of my model= 92.73333333333333 %\n"
     ]
    }
   ],
   "source": [
    "#Calculating accuracy\n",
    "print(\"accuracy of my model=\",clf.accuracy(X_test,y_test),\"%\")"
   ]
  },
  {
   "cell_type": "code",
   "execution_count": 9,
   "metadata": {},
   "outputs": [
    {
     "name": "stdout",
     "output_type": "stream",
     "text": [
      "[ True  True  True ...  True  True  True]\n",
      "accuracy of sklearn= 92.0 %\n"
     ]
    }
   ],
   "source": [
    "#calculating accuracy of sklearn model\n",
    "from sklearn.neural_network import MLPClassifier\n",
    "clf = MLPClassifier(solver='lbfgs',hidden_layer_sizes=(25))\n",
    "clf.fit(X_train, y_train)\n",
    "y_pred=clf.predict(X_test)\n",
    "A=(y_pred==y_test)\n",
    "print(A)\n",
    "acc=np.mean(A)*100\n",
    "print(\"accuracy of sklearn=\",acc,\"%\")"
   ]
  }
 ],
 "metadata": {
  "kernelspec": {
   "display_name": "Python 3",
   "language": "python",
   "name": "python3"
  },
  "language_info": {
   "codemirror_mode": {
    "name": "ipython",
    "version": 3
   },
   "file_extension": ".py",
   "mimetype": "text/x-python",
   "name": "python",
   "nbconvert_exporter": "python",
   "pygments_lexer": "ipython3",
   "version": "3.7.0"
  }
 },
 "nbformat": 4,
 "nbformat_minor": 2
}
