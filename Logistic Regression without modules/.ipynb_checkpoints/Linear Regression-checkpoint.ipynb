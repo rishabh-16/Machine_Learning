{
 "cells": [
  {
   "cell_type": "code",
   "execution_count": null,
   "metadata": {},
   "outputs": [],
   "source": [
    "import numpy as np\n",
    "\n",
    "class Linear Regression:\n",
    "    \n",
    "    def __init__(self,X,y):\n",
    "        self.m=len(y)\n",
    "        self.X=np.hstack((np.ones((len(y),1)),X))\n",
    "        n=np.shape(X)[1]\n",
    "        self.y=y\n",
    "        self.theta=np.random.random((n,1))\n",
    "        \n",
    "    def Calcost(self,theta=self.theta):\n",
    "        m=len(self.y)\n",
    "        d=self.X.dot(theta)-self.y\n",
    "        J=(1/(2.0*m)) * np.sum(np.square(d))\n",
    "        return J\n",
    "    \n",
    "    def gradient_descent(self,alpha,noi):\n",
    "        for i in range(noi):\n",
    "            d=self.X.dot(self.theta)-y\n",
    "            self.theta = self.theta - (alpha/self.m)*(self.X.T.dot(d))\n",
    "        return self.theta\n",
    "    \n",
    "    def predict(X,mean=0,dev=1):\n",
    "        X=(X-mean)/dev\n",
    "        m_test=np.shape(X)[0]\n",
    "        X=np.hstack((np.ones((m_test,1)),X))\n",
    "        y_pred=X.dot(self.theta)\n",
    "        return y_pred\n",
    "  #_________________________________________________________________________#  \n",
    "\n",
    "def normalize(X):\n",
    "        mean=np.mean(X,axis=0)\n",
    "        dev=np.std(X,axis=0)\n",
    "        Xn=(X-mean)/dev\n",
    "        return Xn,mean,dev\n",
    "    "
   ]
  }
 ],
 "metadata": {
  "kernelspec": {
   "display_name": "Python 3",
   "language": "python",
   "name": "python3"
  },
  "language_info": {
   "codemirror_mode": {
    "name": "ipython",
    "version": 3
   },
   "file_extension": ".py",
   "mimetype": "text/x-python",
   "name": "python",
   "nbconvert_exporter": "python",
   "pygments_lexer": "ipython3",
   "version": "3.7.0"
  }
 },
 "nbformat": 4,
 "nbformat_minor": 2
}
